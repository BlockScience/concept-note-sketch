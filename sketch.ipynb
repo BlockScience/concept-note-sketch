{
 "cells": [
  {
   "cell_type": "code",
   "execution_count": 1,
   "metadata": {},
   "outputs": [],
   "source": [
    "from dataclasses import dataclass\n",
    "from typing import List"
   ]
  },
  {
   "cell_type": "code",
   "execution_count": 2,
   "metadata": {},
   "outputs": [],
   "source": [
    "@dataclass\n",
    "class Component_Type():\n",
    "    name: str\n",
    "    requirements: str\n",
    "\n",
    "@dataclass\n",
    "class Component():\n",
    "    content: str\n",
    "    version: int\n",
    "    type: Component_Type\n",
    "\n",
    "    def revision(self, new_content: str):\n",
    "        self.content = new_content\n",
    "        self.version += 1\n",
    "\n",
    "@dataclass\n",
    "class Concept():\n",
    "    name: str\n",
    "    version: int\n",
    "    description: str\n",
    "    components: List[Component]\n",
    "\n",
    "    def add_component(self, component: Component):\n",
    "        self.version += 1\n",
    "        self.components.append(component)\n",
    "    \n",
    "    def revise_component(self, component: Component, new_content: str):\n",
    "        component.revision(new_content)\n",
    "        self.version += 1\n",
    "\n",
    "@dataclass\n",
    "class Template():\n",
    "    name: str\n",
    "    description: str\n",
    "    pattern: List[Component_Type]\n",
    "\n",
    "    def check_concept(self, concept: Concept):\n",
    "        missing_components = []\n",
    "        for component_type in self.pattern:\n",
    "            found = False\n",
    "            for component in concept.components:\n",
    "                if component.type == component_type:\n",
    "                    found = True\n",
    "                    break\n",
    "            if not found:\n",
    "                missing_components.append(component_type.name)\n",
    "        print(\"Missing Components:\", missing_components)\n",
    "        return missing_components == []\n",
    "\n",
    "\n",
    "@dataclass\n",
    "class Document():\n",
    "    name: str\n",
    "    version: int\n",
    "    components: List[Component]\n",
    "    concept: Concept\n",
    "    template: Template\n",
    "\n",
    "    def export(self):\n",
    "        return \"\\n\".join([c.content for c in self.components])\n",
    "\n",
    "\n",
    "def document_factory(concept:Concept, template: Template) -> Document:\n",
    "    #check if concept is compatible with template\n",
    "    if not template.check_concept(concept):\n",
    "        raise ValueError(\"Concept is not compatible with template\")\n",
    "    \n",
    "    components = []\n",
    "    for component_type in template.pattern:\n",
    "        for component in concept.components:\n",
    "            if component.type == component_type:\n",
    "                components.append(component)\n",
    "                break\n",
    "\n",
    "    return Document(name=concept.name + template.name, version=concept.version, components=components, concept=concept, template=template)\n",
    "\n",
    "\n",
    "    "
   ]
  },
  {
   "cell_type": "code",
   "execution_count": 3,
   "metadata": {},
   "outputs": [],
   "source": [
    "#define component types\n",
    "legalese = Component_Type(\"Legalese\", \"Legal requirements\")\n",
    "summary = Component_Type(\"Summary\", \"Summary of the concept\")\n",
    "quadchart = Component_Type(\"Quadchart\", \"Quadchart of the concept\")\n",
    "approach = Component_Type(\"Approach\", \"Approach to the concept\")\n",
    "feasibilityRisksAssumptions = Component_Type(\"Feasibility, Risks, Assumptions\", \"description of the feasibility, risks and assumptions of the concept\")\n",
    "successCriteriaMilestones = Component_Type(\"Success Criteria and Milestones\", \"Success criteria and milestones of the concept\")\n",
    "\n",
    "#define a template\n",
    "TwoPager = Template(\"Two-Pager\", \"A 2 page document\", [legalese, summary, quadchart])\n",
    "SixPager = Template(\"Six-Pager\", \"A 6 page document\", [legalese, summary, quadchart, approach, feasibilityRisksAssumptions, successCriteriaMilestones])\n",
    "\n",
    "#define sample components\n",
    "legalese_component = Component(\"Legalese content Lipsum etc\", 1, legalese)\n",
    "summary_component = Component(\"Summary content Lipsum etc\", 1, summary)\n",
    "quadchart_component = Component(\"Quadchart content Lipsum etc\", 1, quadchart)\n",
    "approach_component = Component(\"Approach content Lipsum etc\", 1, approach)\n",
    "feasibilityRisksAssumptions_component = Component(\"Feasibility, Risks, Assumptions content Lipsum etc\", 1, feasibilityRisksAssumptions)\n",
    "successCriteriaMilestones_component = Component(\"Success Criteria and Milestones content Lipsum etc\", 1, successCriteriaMilestones)\n",
    "\n",
    "#define a concept\n",
    "my_concept = Concept(\"Concept 1\", 1, \"Description of concept 1\", [legalese_component, summary_component, quadchart_component, approach_component])\n"
   ]
  },
  {
   "cell_type": "code",
   "execution_count": 4,
   "metadata": {},
   "outputs": [
    {
     "name": "stdout",
     "output_type": "stream",
     "text": [
      "Missing Components: []\n"
     ]
    },
    {
     "data": {
      "text/plain": [
       "True"
      ]
     },
     "execution_count": 4,
     "metadata": {},
     "output_type": "execute_result"
    }
   ],
   "source": [
    "TwoPager.check_concept(my_concept)"
   ]
  },
  {
   "cell_type": "code",
   "execution_count": 5,
   "metadata": {},
   "outputs": [
    {
     "name": "stdout",
     "output_type": "stream",
     "text": [
      "Missing Components: []\n"
     ]
    }
   ],
   "source": [
    "#define a document\n",
    "twopagedocument = document_factory(my_concept, TwoPager)"
   ]
  },
  {
   "cell_type": "code",
   "execution_count": 6,
   "metadata": {},
   "outputs": [
    {
     "name": "stdout",
     "output_type": "stream",
     "text": [
      "Legalese content Lipsum etc\n",
      "Summary content Lipsum etc\n",
      "Quadchart content Lipsum etc\n"
     ]
    }
   ],
   "source": [
    "print(twopagedocument.export())"
   ]
  },
  {
   "cell_type": "code",
   "execution_count": 7,
   "metadata": {},
   "outputs": [
    {
     "name": "stdout",
     "output_type": "stream",
     "text": [
      "Missing Components: []\n"
     ]
    }
   ],
   "source": [
    "#recise a component\n",
    "my_concept.revise_component(summary_component, \"New summary Lipsum etc\")\n",
    "new_twopagedocument = document_factory(my_concept, TwoPager)\n"
   ]
  },
  {
   "cell_type": "code",
   "execution_count": 8,
   "metadata": {},
   "outputs": [
    {
     "name": "stdout",
     "output_type": "stream",
     "text": [
      "Legalese content Lipsum etc\n",
      "New summary Lipsum etc\n",
      "Quadchart content Lipsum etc\n"
     ]
    }
   ],
   "source": [
    "\n",
    "print(new_twopagedocument.export())"
   ]
  },
  {
   "cell_type": "code",
   "execution_count": 9,
   "metadata": {},
   "outputs": [
    {
     "name": "stdout",
     "output_type": "stream",
     "text": [
      "Missing Components: ['Feasibility, Risks, Assumptions', 'Success Criteria and Milestones']\n"
     ]
    },
    {
     "data": {
      "text/plain": [
       "False"
      ]
     },
     "execution_count": 9,
     "metadata": {},
     "output_type": "execute_result"
    }
   ],
   "source": [
    "SixPager.check_concept(my_concept) #should raise an error"
   ]
  },
  {
   "cell_type": "code",
   "execution_count": 10,
   "metadata": {},
   "outputs": [],
   "source": [
    "feasibilityRisksAssumptions_component = Component(\"Feasibility, Risks, Assumptions content Lipsum etc\", 1, feasibilityRisksAssumptions)\n",
    "my_concept.add_component(feasibilityRisksAssumptions_component)\n",
    "\n",
    "successCriteriaMilestones_component = Component(\"Sucess Criteria and Milestones content Lipsum etc\", 1, successCriteriaMilestones)\n",
    "my_concept.add_component(successCriteriaMilestones_component)\n"
   ]
  },
  {
   "cell_type": "code",
   "execution_count": 11,
   "metadata": {},
   "outputs": [
    {
     "data": {
      "text/plain": [
       "Concept(name='Concept 1', version=4, description='Description of concept 1', components=[Component(content='Legalese content Lipsum etc', version=1, type=Component_Type(name='Legalese', requirements='Legal requirements')), Component(content='New summary Lipsum etc', version=2, type=Component_Type(name='Summary', requirements='Summary of the concept')), Component(content='Quadchart content Lipsum etc', version=1, type=Component_Type(name='Quadchart', requirements='Quadchart of the concept')), Component(content='Approach content Lipsum etc', version=1, type=Component_Type(name='Approach', requirements='Approach to the concept')), Component(content='Feasibility, Risks, Assumptions content Lipsum etc', version=1, type=Component_Type(name='Feasibility, Risks, Assumptions', requirements='description of the feasibility, risks and assumptions of the concept')), Component(content='Sucess Criteria and Milestones content Lipsum etc', version=1, type=Component_Type(name='Success Criteria and Milestones', requirements='Success criteria and milestones of the concept'))])"
      ]
     },
     "execution_count": 11,
     "metadata": {},
     "output_type": "execute_result"
    }
   ],
   "source": [
    "my_concept"
   ]
  },
  {
   "cell_type": "code",
   "execution_count": 12,
   "metadata": {},
   "outputs": [
    {
     "name": "stdout",
     "output_type": "stream",
     "text": [
      "Missing Components: []\n"
     ]
    },
    {
     "data": {
      "text/plain": [
       "True"
      ]
     },
     "execution_count": 12,
     "metadata": {},
     "output_type": "execute_result"
    }
   ],
   "source": [
    "\n",
    "SixPager.check_concept(my_concept)"
   ]
  },
  {
   "cell_type": "code",
   "execution_count": 13,
   "metadata": {},
   "outputs": [
    {
     "name": "stdout",
     "output_type": "stream",
     "text": [
      "Missing Components: []\n",
      "Legalese content Lipsum etc\n",
      "New summary Lipsum etc\n",
      "Quadchart content Lipsum etc\n",
      "Approach content Lipsum etc\n",
      "Feasibility, Risks, Assumptions content Lipsum etc\n",
      "Sucess Criteria and Milestones content Lipsum etc\n"
     ]
    }
   ],
   "source": [
    "\n",
    "sixpage_document = document_factory(my_concept, SixPager)\n",
    "\n",
    "print(sixpage_document.export())"
   ]
  },
  {
   "cell_type": "code",
   "execution_count": 14,
   "metadata": {},
   "outputs": [
    {
     "name": "stdout",
     "output_type": "stream",
     "text": [
      "Missing Components: []\n"
     ]
    }
   ],
   "source": [
    "#revise a component\n",
    "my_concept.revise_component(summary_component, \"New NEW summary Lipsum etc\")\n",
    "newnew_twopagedocument = document_factory(my_concept, TwoPager)"
   ]
  },
  {
   "cell_type": "code",
   "execution_count": 15,
   "metadata": {},
   "outputs": [
    {
     "name": "stdout",
     "output_type": "stream",
     "text": [
      "Legalese content Lipsum etc\n",
      "New NEW summary Lipsum etc\n",
      "Quadchart content Lipsum etc\n"
     ]
    }
   ],
   "source": [
    "print(newnew_twopagedocument.export())"
   ]
  },
  {
   "cell_type": "code",
   "execution_count": 16,
   "metadata": {},
   "outputs": [
    {
     "name": "stdout",
     "output_type": "stream",
     "text": [
      "Missing Components: []\n"
     ]
    }
   ],
   "source": [
    "#create a new concept with new components but the same component types\n",
    "new_legalese_component = Component(\"New Legalese content Lipsum etc\", 1, legalese)\n",
    "new_summary_component = Component(\"New Summary content Lipsum etc\", 1, summary)\n",
    "new_quadchart_component = Component(\"New Quadchart content Lipsum etc\", 1, quadchart)\n",
    "new_approach_component = Component(\"New Approach content Lipsum etc\", 1, approach)\n",
    "new_feasibilityRisksAssumptions_component = Component(\"New Feasibility, Risks, Assumptions content Lipsum etc\", 1, feasibilityRisksAssumptions)\n",
    "new_successCriteriaMilestones_component = Component(\"New Success Criteria and Milestones content Lipsum etc\", 1, successCriteriaMilestones)\n",
    "\n",
    "new_concept = Concept(\"Concept 2\", 1, \"Description of concept 2\", [new_legalese_component, new_summary_component, new_quadchart_component, new_approach_component, new_feasibilityRisksAssumptions_component, new_successCriteriaMilestones_component])\n",
    "\n",
    "new_sixpage_document = document_factory(new_concept, SixPager)"
   ]
  },
  {
   "cell_type": "code",
   "execution_count": 18,
   "metadata": {},
   "outputs": [
    {
     "name": "stdout",
     "output_type": "stream",
     "text": [
      "New Legalese content Lipsum etc\n",
      "New Summary content Lipsum etc\n",
      "New Quadchart content Lipsum etc\n",
      "New Approach content Lipsum etc\n",
      "New Feasibility, Risks, Assumptions content Lipsum etc\n",
      "New Success Criteria and Milestones content Lipsum etc\n"
     ]
    }
   ],
   "source": [
    "print(new_sixpage_document.export())"
   ]
  },
  {
   "cell_type": "code",
   "execution_count": null,
   "metadata": {},
   "outputs": [],
   "source": []
  }
 ],
 "metadata": {
  "kernelspec": {
   "display_name": "base",
   "language": "python",
   "name": "python3"
  },
  "language_info": {
   "codemirror_mode": {
    "name": "ipython",
    "version": 3
   },
   "file_extension": ".py",
   "mimetype": "text/x-python",
   "name": "python",
   "nbconvert_exporter": "python",
   "pygments_lexer": "ipython3",
   "version": "3.11.5"
  }
 },
 "nbformat": 4,
 "nbformat_minor": 2
}
